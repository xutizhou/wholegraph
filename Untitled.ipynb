{
 "cells": [
  {
   "cell_type": "code",
   "execution_count": 2,
   "id": "4a6e4fd0-5a7c-4f7d-a9a6-f284a60be1e5",
   "metadata": {},
   "outputs": [
    {
     "data": {
      "text/plain": [
       "2.101025682814578"
      ]
     },
     "execution_count": 2,
     "metadata": {},
     "output_type": "execute_result"
    }
   ],
   "source": [
    "20709*100*128*4/0.47/1024**3"
   ]
  },
  {
   "cell_type": "code",
   "execution_count": 4,
   "id": "97919728-a163-48ff-b6b4-712bd221136f",
   "metadata": {},
   "outputs": [
    {
     "data": {
      "text/plain": [
       "2.384185791015625"
      ]
     },
     "execution_count": 4,
     "metadata": {},
     "output_type": "execute_result"
    }
   ],
   "source": [
    "5000000*128*4/1024**3"
   ]
  },
  {
   "cell_type": "code",
   "execution_count": 2,
   "id": "6906593a-3e9d-45a0-8056-b05f8c1affea",
   "metadata": {},
   "outputs": [
    {
     "data": {
      "text/plain": [
       "25600000"
      ]
     },
     "execution_count": 2,
     "metadata": {},
     "output_type": "execute_result"
    }
   ],
   "source": [
    "64*4000*100"
   ]
  },
  {
   "cell_type": "code",
   "execution_count": 3,
   "id": "2e9d483f-f999-420c-ba01-857d05f9d680",
   "metadata": {},
   "outputs": [
    {
     "data": {
      "text/plain": [
       "2.384185791015625"
      ]
     },
     "execution_count": 3,
     "metadata": {},
     "output_type": "execute_result"
    }
   ],
   "source": [
    "5000000*128*4/1024**3"
   ]
  },
  {
   "cell_type": "code",
   "execution_count": 9,
   "id": "594095b1-a4d6-4987-b4c3-47857ab6093c",
   "metadata": {},
   "outputs": [
    {
     "data": {
      "text/plain": [
       "0.5960464477539062"
      ]
     },
     "execution_count": 9,
     "metadata": {},
     "output_type": "execute_result"
    }
   ],
   "source": [
    "80000000*8/1024**3"
   ]
  },
  {
   "cell_type": "code",
   "execution_count": 8,
   "id": "60a45b17-ffc5-48cc-9a6d-f84049ba0447",
   "metadata": {},
   "outputs": [
    {
     "data": {
      "text/plain": [
       "2560000000"
      ]
     },
     "execution_count": 8,
     "metadata": {},
     "output_type": "execute_result"
    }
   ],
   "source": [
    "100*100*64*4000"
   ]
  },
  {
   "cell_type": "code",
   "execution_count": 10,
   "id": "79067330-63a3-45b7-a293-c4d2dbc8ba66",
   "metadata": {},
   "outputs": [
    {
     "data": {
      "text/plain": [
       "103.37932969173441"
      ]
     },
     "execution_count": 10,
     "metadata": {},
     "output_type": "execute_result"
    }
   ],
   "source": [
    "800000000*128*4/3.69/1024**3"
   ]
  },
  {
   "cell_type": "code",
   "execution_count": 12,
   "id": "b5069f13-86bc-443c-b285-0677eed88bdd",
   "metadata": {},
   "outputs": [
    {
     "data": {
      "text/plain": [
       "250.05849673022732"
      ]
     },
     "execution_count": 12,
     "metadata": {},
     "output_type": "execute_result"
    }
   ],
   "source": [
    "800000000*128*4/1.53/1023**3"
   ]
  },
  {
   "cell_type": "code",
   "execution_count": 13,
   "id": "0c2682de-eb6d-46dc-99e2-bf6a64fc6bf5",
   "metadata": {},
   "outputs": [
    {
     "data": {
      "text/plain": [
       "38.14697265625"
      ]
     },
     "execution_count": 13,
     "metadata": {},
     "output_type": "execute_result"
    }
   ],
   "source": [
    "80000000*128*4/1024**3"
   ]
  },
  {
   "cell_type": "code",
   "execution_count": 14,
   "id": "0d14c866-2d6c-4ab1-89b5-846d7ca8774e",
   "metadata": {},
   "outputs": [
    {
     "data": {
      "text/plain": [
       "524.6076802013612"
      ]
     },
     "execution_count": 14,
     "metadata": {},
     "output_type": "execute_result"
    }
   ],
   "source": [
    "381/(119*6103/10**6)"
   ]
  },
  {
   "cell_type": "code",
   "execution_count": 15,
   "id": "6d44bf0f-9945-4567-aa3a-e37506fb1c3d",
   "metadata": {},
   "outputs": [
    {
     "data": {
      "text/plain": [
       "1048576"
      ]
     },
     "execution_count": 15,
     "metadata": {},
     "output_type": "execute_result"
    }
   ],
   "source": [
    "2048*64*8"
   ]
  },
  {
   "cell_type": "code",
   "execution_count": 16,
   "id": "7dd1c2d5-a48a-4333-97c0-97681e61f604",
   "metadata": {},
   "outputs": [
    {
     "data": {
      "text/plain": [
       "1096.4912280701753"
      ]
     },
     "execution_count": 16,
     "metadata": {},
     "output_type": "execute_result"
    }
   ],
   "source": [
    "2048*64*128*4/57*10**6/1024**3"
   ]
  },
  {
   "cell_type": "code",
   "execution_count": 19,
   "id": "58c6224b-d5c0-4d87-9882-741918c10ce0",
   "metadata": {},
   "outputs": [
    {
     "data": {
      "text/plain": [
       "1096.4912280701753"
      ]
     },
     "execution_count": 19,
     "metadata": {},
     "output_type": "execute_result"
    }
   ],
   "source": [
    "1048576/2*128/57*10**6/1024**3"
   ]
  },
  {
   "cell_type": "code",
   "execution_count": null,
   "id": "ca9f9224-7c68-4fe5-9414-b1d2cdf6ed86",
   "metadata": {},
   "outputs": [],
   "source": []
  }
 ],
 "metadata": {
  "kernelspec": {
   "display_name": "Python 3 (ipykernel)",
   "language": "python",
   "name": "python3"
  },
  "language_info": {
   "codemirror_mode": {
    "name": "ipython",
    "version": 3
   },
   "file_extension": ".py",
   "mimetype": "text/x-python",
   "name": "python",
   "nbconvert_exporter": "python",
   "pygments_lexer": "ipython3",
   "version": "3.12.4"
  }
 },
 "nbformat": 4,
 "nbformat_minor": 5
}
